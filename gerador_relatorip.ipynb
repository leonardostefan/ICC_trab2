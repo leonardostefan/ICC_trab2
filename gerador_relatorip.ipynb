{
 "cells": [
  {
   "cell_type": "code",
   "execution_count": null,
   "source": [
    "import numpy as np\n",
    "import matplotlib.pyplot as plt\n",
    "import pandas as pd\n",
    "import os\n",
    "import seaborn as sns\n",
    "# expected_sizes = [64, 100, 128, 500, 516,1000, 1024, 2000, 2048, 3000, 4096, 5000]\n",
    "# expected_sizes = [64, 100, 128, 500]\n",
    "expected_sizes = [5,10,20]"
   ],
   "outputs": [],
   "metadata": {}
  },
  {
   "cell_type": "code",
   "execution_count": null,
   "source": [
    "\n",
    "def polynomial_coefficients(xs, coeffs):\n",
    "    \"\"\" Returns a list of function outputs (`ys`) for a polynomial with the given coefficients and\n",
    "    a list of input values (`xs`).\n",
    "\n",
    "    The coefficients must go in order from a0 to an, and all must be included, even if the value is 0.\n",
    "    \"\"\"\n",
    "    order = len(coeffs)\n",
    "    ys = np.zeros(len(xs))  # Initialise an array of zeros of the required length.\n",
    "    for i in range(order):\n",
    "        ys += coeffs[i] * xs ** i\n",
    "    return ys\n",
    "\n"
   ],
   "outputs": [],
   "metadata": {}
  },
  {
   "cell_type": "code",
   "execution_count": null,
   "source": [
    "def getGroupTable(group: str, size: int, columns: list = None) -> pd.DataFrame:\n",
    "    # Executa likwid no terminal\n",
    "    cmd = f\"likwid-perfctr -C 3 -o ./Resultados/result{group}_{size}.csv -g {group} -m ./curvas -l<./Resultados/gerado{size}.in\"\n",
    "    print (cmd)\n",
    "    os.system(cmd)\n",
    "\n",
    "    # Carrega arquivo de resultado\n",
    "    file_name = f'./Resultados/result{group}_{size}.csv'\n",
    "    result = open(file_name, 'r')\n",
    "\n",
    "    # Filtra arquivo de resultado\n",
    "    tables = {}\n",
    "    currentTable = 'trash'\n",
    "    tables[currentTable] = {}\n",
    "    for line in result.readlines():\n",
    "        # print(line)\n",
    "        lineSplit = line.split(',')\n",
    "        if lineSplit[0] == \"TABLE\":\n",
    "            currentTable = lineSplit[1].split()[1]\n",
    "            if currentTable not in tables:\n",
    "                tables[currentTable] = {}\n",
    "        elif lineSplit[0] == \"STRUCT\":\n",
    "            currentTable = 'trash'\n",
    "        else:\n",
    "            try:\n",
    "                tables[currentTable][lineSplit[0]] = float(lineSplit[1])\n",
    "            except:\n",
    "                tables[currentTable][lineSplit[0]] = lineSplit[1]\n",
    "    # Remove lixo do lido\n",
    "    tables.pop('trash')\n",
    "\n",
    "    # Gera dataframe e seleciona colunas desejadas\n",
    "    df = pd.DataFrame(tables).T\n",
    "    if columns:\n",
    "        df = df[columns]\n",
    "\n",
    "    df[\"n_size\"] = size\n",
    "    df = df.set_index([df.index, \"n_size\"])\n",
    "    return df\n"
   ],
   "outputs": [],
   "metadata": {}
  },
  {
   "cell_type": "code",
   "execution_count": null,
   "source": [
    "tabelados = {}\n",
    "resultados = {}\n",
    "for size in expected_sizes:\n",
    "    cmdCurva = f\"./gera_entrada {size} > ./Resultados/gerado{size}.in; ./curvas <./Resultados/gerado{size}.in > ./Resultados/gerado{size}.out\"\n",
    "    os.system(cmdCurva)\n",
    "    tabelados[size]=pd.read_csv(f'./Resultados/gerado{size}.in',skiprows=1, sep=' ', header = None).iloc[:,:-1]\n",
    "    resultados[size]= pd.read_csv(f'./Resultados/gerado{size}.out', sep=' ', header = None).iloc[:,:-1]\n",
    "    cmdLikwid= f\"./gera_entrada {size} > ./Resultados/gerado{size}.in; ./curvas <./Resultados/gerado{size}.in > ./Resultados/gerado{size}.out\"\n"
   ],
   "outputs": [],
   "metadata": {}
  },
  {
   "cell_type": "code",
   "execution_count": null,
   "source": [
    "testColumns = ['L2 miss ratio', 'Runtime (RDTSC) [s]','call count']+['L3 bandwidth [MBytes/s]']+['DP MFLOP/s', 'AVX DP MFLOP/s']\n",
    "dfFinal = pd.DataFrame(columns = testColumns,dtype=np.float64)\n",
    "for size in expected_sizes:\n",
    "    L2CACHE_table = getGroupTable('L2CACHE', size, ['L2 miss ratio', 'Runtime (RDTSC) [s]','call count'])\n",
    "    L3_table = getGroupTable('L3', size, ['L3 bandwidth [MBytes/s]'])\n",
    "    FLOPS_DP_table = getGroupTable('FLOPS_DP', size, ['DP MFLOP/s', 'AVX DP MFLOP/s'])\n",
    "    dfr = pd.concat([L2CACHE_table], axis=1)\n",
    "    dfr[\"AVG TIME\"] = dfr['Runtime (RDTSC) [s]']/dfr['call count']\n",
    "\n",
    "    dfFinal=dfFinal.append(dfr)\n",
    "\n",
    "dfFinal[['region', 'n_size']]= dfFinal.index.tolist()\n",
    "dfFinal.to_csv(\"./Resultados/tabelaFinal.csv\")\n",
    "for col in testColumns:\n",
    "    dfFinal.loc[:,col]=dfFinal.loc[:,col].apply(lambda x :float(x))\n",
    "    try:\n",
    "        path = os.path.join('./Resultados/',col.replace('/','p').replace(' ','_')+'.png')\n",
    "        sns.lineplot(data =dfFinal, x='n_size', y =col, hue='region').figure.savefig(path)\n",
    "        plt.close()\n",
    "    except:\n",
    "        pass"
   ],
   "outputs": [],
   "metadata": {}
  },
  {
   "cell_type": "code",
   "execution_count": null,
   "source": [
    "# Para cada n esperado\n",
    "for item in expected_sizes:\n",
    "    m = len(tabelados[item])-1\n",
    "    xTab = tabelados[item].loc[0]\n",
    "    # Para cada função com valor tabelado\n",
    "    for iM in range(m):\n",
    "        yTab = tabelados[item].loc[iM+1]\n",
    "        intervalX=max(xTab)- min(xTab)\n",
    "        # Margem de 5% no valor do plot do eixo x\n",
    "        padding=intervalX*0.05\n",
    "        xs = np.linspace(min(xTab), max(xTab)+padding, 1000)\n",
    "        df = pd.DataFrame(columns=[\"interpolador\", \"ajuste\"], index=xs)\n",
    "        interpol = resultados[item].loc[iM*2]\n",
    "        ajuste = resultados[item].loc[iM*2+1]\n",
    "        df['interpolador'] = polynomial_coefficients(xs, interpol)\n",
    "        df['ajuste'] = polynomial_coefficients(xs, ajuste)\n",
    "        xsG = np.linspace(-5, 5, 10)\n",
    "        df.plot(style= ['-','-.'])\n",
    "        \n",
    "        plt.scatter(xTab,yTab, color = 'black',  label='Pontos Tabelados',marker = 'x' )\n",
    "        plt.legend(loc='best')\n",
    "        plt.title(f\"Valores tabelados = {item}, Funçao Tabelada {iM}\")\n",
    "        path = os.path.join('./Resultados/',f'n{item}f[{iM}].png')\n",
    "        plt.savefig(path)\n",
    "        plt.close()\n",
    "\n"
   ],
   "outputs": [],
   "metadata": {}
  }
 ],
 "metadata": {
  "orig_nbformat": 4,
  "language_info": {
   "name": "python",
   "version": "3.8.10",
   "mimetype": "text/x-python",
   "codemirror_mode": {
    "name": "ipython",
    "version": 3
   },
   "pygments_lexer": "ipython3",
   "nbconvert_exporter": "python",
   "file_extension": ".py"
  },
  "kernelspec": {
   "name": "python3",
   "display_name": "Python 3.8.10 64-bit"
  },
  "interpreter": {
   "hash": "916dbcbb3f70747c44a77c7bcd40155683ae19c65e1c03b4aa3499c5328201f1"
  }
 },
 "nbformat": 4,
 "nbformat_minor": 2
}